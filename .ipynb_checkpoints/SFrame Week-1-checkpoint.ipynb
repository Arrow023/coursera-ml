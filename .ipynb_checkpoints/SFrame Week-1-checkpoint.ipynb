{
 "cells": [
  {
   "cell_type": "code",
   "execution_count": 5,
   "metadata": {
    "collapsed": true
   },
   "outputs": [],
   "source": [
    "import graphlab"
   ]
  },
  {
   "cell_type": "code",
   "execution_count": 6,
   "metadata": {
    "collapsed": false
   },
   "outputs": [
    {
     "name": "stderr",
     "output_type": "stream",
     "text": [
      "[INFO] graphlab.cython.cy_server: GraphLab Create v2.1 started. Logging: /tmp/graphlab_server_1588396597.log\n"
     ]
    },
    {
     "name": "stdout",
     "output_type": "stream",
     "text": [
      "This non-commercial license of GraphLab Create for academic use is assigned to piyushchohan48@gmail.com and will expire on May 01, 2021.\n"
     ]
    }
   ],
   "source": [
    "sf=graphlab.SFrame('people_wiki.sframe')"
   ]
  },
  {
   "cell_type": "code",
   "execution_count": 7,
   "metadata": {
    "collapsed": false
   },
   "outputs": [
    {
     "name": "stdout",
     "output_type": "stream",
     "text": [
      "Canvas is accessible via web browser at the URL: http://localhost:33433/index.html\n",
      "Opening Canvas in default web browser.\n"
     ]
    }
   ],
   "source": [
    "sf.show()"
   ]
  },
  {
   "cell_type": "code",
   "execution_count": 8,
   "metadata": {
    "collapsed": false
   },
   "outputs": [
    {
     "data": {
      "text/html": [
       "<div style=\"max-height:1000px;max-width:1500px;overflow:auto;\"><table frame=\"box\" rules=\"cols\">\n",
       "    <tr>\n",
       "        <th style=\"padding-left: 1em; padding-right: 1em; text-align: center\">URI</th>\n",
       "        <th style=\"padding-left: 1em; padding-right: 1em; text-align: center\">name</th>\n",
       "        <th style=\"padding-left: 1em; padding-right: 1em; text-align: center\">text</th>\n",
       "    </tr>\n",
       "    <tr>\n",
       "        <td style=\"padding-left: 1em; padding-right: 1em; text-align: center; vertical-align: top\">&lt;http://dbpedia.org/resou<br>rce/Digby_Morrell&gt; ...</td>\n",
       "        <td style=\"padding-left: 1em; padding-right: 1em; text-align: center; vertical-align: top\">Digby Morrell</td>\n",
       "        <td style=\"padding-left: 1em; padding-right: 1em; text-align: center; vertical-align: top\">digby morrell born 10<br>october 1979 is a former ...</td>\n",
       "    </tr>\n",
       "    <tr>\n",
       "        <td style=\"padding-left: 1em; padding-right: 1em; text-align: center; vertical-align: top\">&lt;http://dbpedia.org/resou<br>rce/Alfred_J._Lewy&gt; ...</td>\n",
       "        <td style=\"padding-left: 1em; padding-right: 1em; text-align: center; vertical-align: top\">Alfred J. Lewy</td>\n",
       "        <td style=\"padding-left: 1em; padding-right: 1em; text-align: center; vertical-align: top\">alfred j lewy aka sandy<br>lewy graduated from ...</td>\n",
       "    </tr>\n",
       "    <tr>\n",
       "        <td style=\"padding-left: 1em; padding-right: 1em; text-align: center; vertical-align: top\">&lt;http://dbpedia.org/resou<br>rce/Harpdog_Brown&gt; ...</td>\n",
       "        <td style=\"padding-left: 1em; padding-right: 1em; text-align: center; vertical-align: top\">Harpdog Brown</td>\n",
       "        <td style=\"padding-left: 1em; padding-right: 1em; text-align: center; vertical-align: top\">harpdog brown is a singer<br>and harmonica player who ...</td>\n",
       "    </tr>\n",
       "    <tr>\n",
       "        <td style=\"padding-left: 1em; padding-right: 1em; text-align: center; vertical-align: top\">&lt;http://dbpedia.org/resou<br>rce/Franz_Rottensteiner&gt; ...</td>\n",
       "        <td style=\"padding-left: 1em; padding-right: 1em; text-align: center; vertical-align: top\">Franz Rottensteiner</td>\n",
       "        <td style=\"padding-left: 1em; padding-right: 1em; text-align: center; vertical-align: top\">franz rottensteiner born<br>in waidmannsfeld lower ...</td>\n",
       "    </tr>\n",
       "    <tr>\n",
       "        <td style=\"padding-left: 1em; padding-right: 1em; text-align: center; vertical-align: top\">&lt;http://dbpedia.org/resou<br>rce/G-Enka&gt; ...</td>\n",
       "        <td style=\"padding-left: 1em; padding-right: 1em; text-align: center; vertical-align: top\">G-Enka</td>\n",
       "        <td style=\"padding-left: 1em; padding-right: 1em; text-align: center; vertical-align: top\">henry krvits born 30<br>december 1974 in tallinn ...</td>\n",
       "    </tr>\n",
       "    <tr>\n",
       "        <td style=\"padding-left: 1em; padding-right: 1em; text-align: center; vertical-align: top\">&lt;http://dbpedia.org/resou<br>rce/Sam_Henderson&gt; ...</td>\n",
       "        <td style=\"padding-left: 1em; padding-right: 1em; text-align: center; vertical-align: top\">Sam Henderson</td>\n",
       "        <td style=\"padding-left: 1em; padding-right: 1em; text-align: center; vertical-align: top\">sam henderson born<br>october 18 1969 is an ...</td>\n",
       "    </tr>\n",
       "    <tr>\n",
       "        <td style=\"padding-left: 1em; padding-right: 1em; text-align: center; vertical-align: top\">&lt;http://dbpedia.org/resou<br>rce/Aaron_LaCrate&gt; ...</td>\n",
       "        <td style=\"padding-left: 1em; padding-right: 1em; text-align: center; vertical-align: top\">Aaron LaCrate</td>\n",
       "        <td style=\"padding-left: 1em; padding-right: 1em; text-align: center; vertical-align: top\">aaron lacrate is an<br>american music producer ...</td>\n",
       "    </tr>\n",
       "    <tr>\n",
       "        <td style=\"padding-left: 1em; padding-right: 1em; text-align: center; vertical-align: top\">&lt;http://dbpedia.org/resou<br>rce/Trevor_Ferguson&gt; ...</td>\n",
       "        <td style=\"padding-left: 1em; padding-right: 1em; text-align: center; vertical-align: top\">Trevor Ferguson</td>\n",
       "        <td style=\"padding-left: 1em; padding-right: 1em; text-align: center; vertical-align: top\">trevor ferguson aka john<br>farrow born 11 november ...</td>\n",
       "    </tr>\n",
       "    <tr>\n",
       "        <td style=\"padding-left: 1em; padding-right: 1em; text-align: center; vertical-align: top\">&lt;http://dbpedia.org/resou<br>rce/Grant_Nelson&gt; ...</td>\n",
       "        <td style=\"padding-left: 1em; padding-right: 1em; text-align: center; vertical-align: top\">Grant Nelson</td>\n",
       "        <td style=\"padding-left: 1em; padding-right: 1em; text-align: center; vertical-align: top\">grant nelson born 27<br>april 1971 in london  ...</td>\n",
       "    </tr>\n",
       "    <tr>\n",
       "        <td style=\"padding-left: 1em; padding-right: 1em; text-align: center; vertical-align: top\">&lt;http://dbpedia.org/resou<br>rce/Cathy_Caruth&gt; ...</td>\n",
       "        <td style=\"padding-left: 1em; padding-right: 1em; text-align: center; vertical-align: top\">Cathy Caruth</td>\n",
       "        <td style=\"padding-left: 1em; padding-right: 1em; text-align: center; vertical-align: top\">cathy caruth born 1955 is<br>frank h t rhodes ...</td>\n",
       "    </tr>\n",
       "</table>\n",
       "[59071 rows x 3 columns]<br/>Note: Only the head of the SFrame is printed.<br/>You can use print_rows(num_rows=m, num_columns=n) to print more rows and columns.\n",
       "</div>"
      ],
      "text/plain": [
       "Columns:\n",
       "\tURI\tstr\n",
       "\tname\tstr\n",
       "\ttext\tstr\n",
       "\n",
       "Rows: 59071\n",
       "\n",
       "Data:\n",
       "+-------------------------------+---------------------+\n",
       "|              URI              |         name        |\n",
       "+-------------------------------+---------------------+\n",
       "| <http://dbpedia.org/resour... |    Digby Morrell    |\n",
       "| <http://dbpedia.org/resour... |    Alfred J. Lewy   |\n",
       "| <http://dbpedia.org/resour... |    Harpdog Brown    |\n",
       "| <http://dbpedia.org/resour... | Franz Rottensteiner |\n",
       "| <http://dbpedia.org/resour... |        G-Enka       |\n",
       "| <http://dbpedia.org/resour... |    Sam Henderson    |\n",
       "| <http://dbpedia.org/resour... |    Aaron LaCrate    |\n",
       "| <http://dbpedia.org/resour... |   Trevor Ferguson   |\n",
       "| <http://dbpedia.org/resour... |     Grant Nelson    |\n",
       "| <http://dbpedia.org/resour... |     Cathy Caruth    |\n",
       "+-------------------------------+---------------------+\n",
       "+-------------------------------+\n",
       "|              text             |\n",
       "+-------------------------------+\n",
       "| digby morrell born 10 octo... |\n",
       "| alfred j lewy aka sandy le... |\n",
       "| harpdog brown is a singer ... |\n",
       "| franz rottensteiner born i... |\n",
       "| henry krvits born 30 decem... |\n",
       "| sam henderson born october... |\n",
       "| aaron lacrate is an americ... |\n",
       "| trevor ferguson aka john f... |\n",
       "| grant nelson born 27 april... |\n",
       "| cathy caruth born 1955 is ... |\n",
       "+-------------------------------+\n",
       "[59071 rows x 3 columns]\n",
       "Note: Only the head of the SFrame is printed.\n",
       "You can use print_rows(num_rows=m, num_columns=n) to print more rows and columns."
      ]
     },
     "execution_count": 8,
     "metadata": {},
     "output_type": "execute_result"
    }
   ],
   "source": [
    "sf"
   ]
  },
  {
   "cell_type": "code",
   "execution_count": 14,
   "metadata": {
    "collapsed": false
   },
   "outputs": [
    {
     "ename": "AttributeError",
     "evalue": "'SArray' object has no attribute 'print_rows'",
     "output_type": "error",
     "traceback": [
      "\u001b[1;31m---------------------------------------------------------------------------\u001b[0m",
      "\u001b[1;31mAttributeError\u001b[0m                            Traceback (most recent call last)",
      "\u001b[1;32m<ipython-input-14-7ace0413432b>\u001b[0m in \u001b[0;36m<module>\u001b[1;34m()\u001b[0m\n\u001b[1;32m----> 1\u001b[1;33m \u001b[0msf\u001b[0m\u001b[1;33m[\u001b[0m\u001b[1;34m'text'\u001b[0m\u001b[1;33m]\u001b[0m\u001b[1;33m.\u001b[0m\u001b[0msort\u001b[0m\u001b[1;33m(\u001b[0m\u001b[1;33m)\u001b[0m\u001b[1;33m.\u001b[0m\u001b[0mprint_rows\u001b[0m\u001b[1;33m(\u001b[0m\u001b[0mnum_rows\u001b[0m\u001b[1;33m=\u001b[0m\u001b[1;36m10\u001b[0m\u001b[1;33m)\u001b[0m\u001b[1;33m\u001b[0m\u001b[0m\n\u001b[0m",
      "\u001b[1;31mAttributeError\u001b[0m: 'SArray' object has no attribute 'print_rows'"
     ]
    }
   ],
   "source": [
    "sf['text'].sort().print_rows(num_rows=10)"
   ]
  },
  {
   "cell_type": "code",
   "execution_count": 15,
   "metadata": {
    "collapsed": false
   },
   "outputs": [
    {
     "ename": "AttributeError",
     "evalue": "'SArray' object has no attribute 'print_rows'",
     "output_type": "error",
     "traceback": [
      "\u001b[1;31m---------------------------------------------------------------------------\u001b[0m",
      "\u001b[1;31mAttributeError\u001b[0m                            Traceback (most recent call last)",
      "\u001b[1;32m<ipython-input-15-00fe85b1d67f>\u001b[0m in \u001b[0;36m<module>\u001b[1;34m()\u001b[0m\n\u001b[1;32m----> 1\u001b[1;33m \u001b[1;33m(\u001b[0m\u001b[0msf\u001b[0m\u001b[1;33m[\u001b[0m\u001b[1;34m'text'\u001b[0m\u001b[1;33m]\u001b[0m\u001b[1;33m.\u001b[0m\u001b[0msort\u001b[0m\u001b[1;33m(\u001b[0m\u001b[1;33m)\u001b[0m\u001b[1;33m)\u001b[0m\u001b[1;33m.\u001b[0m\u001b[0mprint_rows\u001b[0m\u001b[1;33m(\u001b[0m\u001b[0mnum_rows\u001b[0m\u001b[1;33m=\u001b[0m\u001b[1;36m10\u001b[0m\u001b[1;33m)\u001b[0m\u001b[1;33m\u001b[0m\u001b[0m\n\u001b[0m",
      "\u001b[1;31mAttributeError\u001b[0m: 'SArray' object has no attribute 'print_rows'"
     ]
    }
   ],
   "source": [
    "(sf['text'].sort()).print_rows(num_rows=10)"
   ]
  },
  {
   "cell_type": "code",
   "execution_count": 16,
   "metadata": {
    "collapsed": false
   },
   "outputs": [
    {
     "ename": "AttributeError",
     "evalue": "'SArray' object has no attribute 'print_rows'",
     "output_type": "error",
     "traceback": [
      "\u001b[1;31m---------------------------------------------------------------------------\u001b[0m",
      "\u001b[1;31mAttributeError\u001b[0m                            Traceback (most recent call last)",
      "\u001b[1;32m<ipython-input-16-3a5a278c6867>\u001b[0m in \u001b[0;36m<module>\u001b[1;34m()\u001b[0m\n\u001b[1;32m----> 1\u001b[1;33m \u001b[0msf\u001b[0m\u001b[1;33m[\u001b[0m\u001b[1;34m'text'\u001b[0m\u001b[1;33m]\u001b[0m\u001b[1;33m.\u001b[0m\u001b[0mprint_rows\u001b[0m\u001b[1;33m(\u001b[0m\u001b[0mnum_rows\u001b[0m\u001b[1;33m=\u001b[0m\u001b[1;36m10\u001b[0m\u001b[1;33m)\u001b[0m\u001b[1;33m\u001b[0m\u001b[0m\n\u001b[0m",
      "\u001b[1;31mAttributeError\u001b[0m: 'SArray' object has no attribute 'print_rows'"
     ]
    }
   ],
   "source": [
    "sf['text'].print_rows(num_rows=10)"
   ]
  },
  {
   "cell_type": "code",
   "execution_count": 17,
   "metadata": {
    "collapsed": false
   },
   "outputs": [
    {
     "name": "stdout",
     "output_type": "stream",
     "text": [
      "+-------------------------------+---------------------+\n",
      "|              URI              |         name        |\n",
      "+-------------------------------+---------------------+\n",
      "| <http://dbpedia.org/resour... |    Digby Morrell    |\n",
      "| <http://dbpedia.org/resour... |    Alfred J. Lewy   |\n",
      "| <http://dbpedia.org/resour... |    Harpdog Brown    |\n",
      "| <http://dbpedia.org/resour... | Franz Rottensteiner |\n",
      "| <http://dbpedia.org/resour... |        G-Enka       |\n",
      "| <http://dbpedia.org/resour... |    Sam Henderson    |\n",
      "| <http://dbpedia.org/resour... |    Aaron LaCrate    |\n",
      "| <http://dbpedia.org/resour... |   Trevor Ferguson   |\n",
      "| <http://dbpedia.org/resour... |     Grant Nelson    |\n",
      "| <http://dbpedia.org/resour... |     Cathy Caruth    |\n",
      "+-------------------------------+---------------------+\n",
      "+-------------------------------+\n",
      "|              text             |\n",
      "+-------------------------------+\n",
      "| digby morrell born 10 octo... |\n",
      "| alfred j lewy aka sandy le... |\n",
      "| harpdog brown is a singer ... |\n",
      "| franz rottensteiner born i... |\n",
      "| henry krvits born 30 decem... |\n",
      "| sam henderson born october... |\n",
      "| aaron lacrate is an americ... |\n",
      "| trevor ferguson aka john f... |\n",
      "| grant nelson born 27 april... |\n",
      "| cathy caruth born 1955 is ... |\n",
      "+-------------------------------+\n",
      "[59071 rows x 3 columns]\n",
      "\n"
     ]
    }
   ],
   "source": [
    "sf.print_rows(num_rows=10)"
   ]
  },
  {
   "cell_type": "code",
   "execution_count": 18,
   "metadata": {
    "collapsed": false
   },
   "outputs": [
    {
     "ename": "AttributeError",
     "evalue": "'SArray' object has no attribute 'print_rows'",
     "output_type": "error",
     "traceback": [
      "\u001b[1;31m---------------------------------------------------------------------------\u001b[0m",
      "\u001b[1;31mAttributeError\u001b[0m                            Traceback (most recent call last)",
      "\u001b[1;32m<ipython-input-18-a620d636e6b0>\u001b[0m in \u001b[0;36m<module>\u001b[1;34m()\u001b[0m\n\u001b[0;32m      1\u001b[0m \u001b[0mst\u001b[0m\u001b[1;33m=\u001b[0m\u001b[0msf\u001b[0m\u001b[1;33m[\u001b[0m\u001b[1;34m'text'\u001b[0m\u001b[1;33m]\u001b[0m\u001b[1;33m.\u001b[0m\u001b[0msort\u001b[0m\u001b[1;33m(\u001b[0m\u001b[1;33m)\u001b[0m\u001b[1;33m\u001b[0m\u001b[0m\n\u001b[1;32m----> 2\u001b[1;33m \u001b[0mst\u001b[0m\u001b[1;33m.\u001b[0m\u001b[0mprint_rows\u001b[0m\u001b[1;33m(\u001b[0m\u001b[0mnum_chars\u001b[0m\u001b[1;33m=\u001b[0m\u001b[1;36m10\u001b[0m\u001b[1;33m)\u001b[0m\u001b[1;33m\u001b[0m\u001b[0m\n\u001b[0m",
      "\u001b[1;31mAttributeError\u001b[0m: 'SArray' object has no attribute 'print_rows'"
     ]
    }
   ],
   "source": [
    "st=sf['text'].sort()\n",
    "st.print_rows(num_chars=10)"
   ]
  },
  {
   "cell_type": "code",
   "execution_count": 19,
   "metadata": {
    "collapsed": false
   },
   "outputs": [
    {
     "data": {
      "text/plain": [
       "dtype: str\n",
       "Rows: 10\n",
       "['108 born 1978 is an italian artist in the field of street art and contemporary art from alessandria108 has moved from working in traditional graffiti art to painting large and mysterious figures that invade public spaces he was the first writer to use numbers instead of letters for his name he started to work when he was a child on the streets of alessandria and used different nameshis work has appeared on the streets of milan paris london berlin and new york city his first works known by people are enigmatic bloblike yellow shapes it is his firm intention to make visual chaos his new works are labyrinths dead trees non figurative 3d objects and installations but especially black and gloomy shapes becoming one of the biggest and influential artists in graffiti abstractism in the last years he took part in a lot of international exhibitions nusign 24 in paris urban edge show in milano segundo and tercer asalto in zaragoza and in 2007 he was invited to join the project called walls inside the biennale di venezia with jr and daim during march 2008 he was invited to join nomadaz a show curated by pablo aravena in los angeles with eltono dem microbo and other artists to represent europe in the usa 108s doomy black abstractions are engaging and challenging in equal measure whether it be within the confines of a small room in the abandoned monastery where the large triangular constructions are most effective and have the effect of warping and playing with the rooms dimensions as the viewer attempts to back away and comprehend the pieces or as a surreal floating void on a wall beside a busy road', '187 is a pseudonym for jordana lesesne a musician and producer from pittsburgh pennsylvania she became widely known in the mid1990s as an american drum and bass producer the village voice described her as being widely regarded as the top us drumnbass producer she has released of over 50 tracks which includes three fulllength albums several eps and many remixes under the alias 187 the album when worlds collide released in 1997 became known for its dark pummeling assaults several of her tracks have appeared as videos on mtv amp as well as mtv europe she has also licensed tracks for numerous compilations as well as the sci fi channel both of her albums charted in the top 25 of both the cmj college music journal and mixmag us later mixer magazine now defunct for 1997 as well as 1998 her works have been reviewed by the likes of spin rolling stone urb mixer mixmag raygun and vibe as well as knowledge the uk drum and bass magazine in 1999 she was listed in rayguns whos who of international djs she was one of the headlining djs on knowledge magazines 28 city kung fu knowledge tour in 1999 she also made out magazines out100 for the year 2000jordanas work has also influenced other artists such as well known dubstep producer bassnectar who heavily sampled 5 am rinse feat mc sphinx the last song on her first album when worlds collide for his song here we go off of his 2010 ep and single timestretch additionally electronic rock act celldweller sampled wake up off of her first album as well as san francisco off of her third album the cities collection in their 2013 song uncrownedin 1999 drum basship hop producer and label owner hive approached jordana to remix her song defcon1 also off of when worlds collide hives remix appears on his 2001 album the raw uncut jordana collaborated with lady sovereign on a song early in sovs career after the two met in an internet chat room for an online radio station which jordana had a show on recently new zealand based dubstep and drum bass producer alexis kunsub has also cited jordana as an influence and the two are collaborating on music and a possible tourin addition to production jordana has also been a dj musician and singer in 20012002 jordana worked at flex fm in london england as lady j with lady sovereign mcing for her during jordanas radio show in 2002 she held a club residency spinning uk garage 2step garage and house music at legendary club night trinity in londons vauxhall neighborhoodcurrently jordana has returned to her rock roots and fronts a melodic goth metal band which is working on their first studio album additionally jordana is working on a new drum and bass ep for bristol uk based complex records her guitar and vocal work have featured on clips of songs off of her new ep posted to soundcloud and on cover songs she has posted on afropunkcomjordana has also been featured in two books her success rising from the depressed 80s economy of a rust belt city to mtv featured electronica artist garnered a mention in 2002 new york times bestseller the rise of the creative class by economist richard florida an extensive interview with jordana was also featured in the new transsexuals a book by rock journalist and illustrator george petros thrasher seconds propaganda exit magazines published in 2012she currently resides in seattle', '1lt diane carlson evans anc rvn born 1946 served as a nurse in the united states army during the vietnam war and founded the vietnam womens memorial project in 1984 now the vietnam womens memorial foundation initiating and leading the effort to add the vietnam womens memorial to the vietnam veterans memorial in washington dccarlson evans was born and raised on a dairy farm in rural minnesota and graduated from nursing school in minneapolis minnesota upon graduation she joined the army nurse corps and served in vietnam at age 21 in 19681969 she served in the burn unit of the 36th evacuation hospital in vung tau and at pleiku in the 71st evacuation hospital 30 miles from the cambodian border in the central highlands just 10 to 20 minutes by helicopter from the field including her one year in vietnam carlson evans completed a total of 6 years in the army nurse corpscarlson evans attended the dedication of the vietnam veterans memorial the wall in 1982 following the dedication of the statue of three soldiers at the vietnam veterans memorial in 1984 carlson evans founded the vietnam womens memorial project to honor the service of american military women who served during the vietnam war era she worked from 1984 through 1993 to establish the vietnam womens memorial lobbying federal authorities for permission to build a memorial to the 11000 military women who served in vietnam and the 265000 who served around the world during the vietnam era carlson evans and thousands of volunteers in 50 states raised money and public support for the cause including from leading veterans organizations including the veterans of foreign wars vietnam veterans of america disabled american veterans and the american legion\tit took seven years of testimony before three federal commissions and two congressional bills for evans and her supporters to earn permission for the memorial once permission was granted more than 300 artists entered a major design competition in 1990 sculptor glenna goodacre of sante fe new mexico submitted the winning design that now stands on the national mall in washington dc the bronze sculpture is 70 tall with four figures 3 women and a wounded soldier the vietnam womens memorial was dedicated before a crowd of thousands on november 11 1993 with remarks from then vice president and vietnam veteran al goresince the dedication of the vietnam womens memorial in 1993 carlson evans has remained active in the veterans community as founder and president of the vietnam womens memorial foundation she speaks nationally about the experience of women in wartime she and her husband of thirty years plus have four children and five grandchildren', '1robert godley b 7 july 1971 in whitstable kent is a britishamerican designer of mens clothing godley spent nearly his entire adult life in fashion working for david evans co silk printers london mantero silk printers and weavers como italy and drakes of london godley designed ties for gentlemans bespoke clothier turnbull asser in london from 199697 and drakes of london from 19972004 before being asked to the united states from london to serve as creative director for polo ralph laurenin 2005 godley founded psycho bunny with friend and business partner robert goldman psycho bunny uses english silks made in a 270yearold mill that are then sewn by hand in mr goldmans familyowned thirdgeneration tie workshop in belleville nj the collection has grown to include polo shirts swim trunks and socks handmade from english silk psycho bunny neckwear features everything from tiny spades to donnie darkostyle rabbit skulls the latter inspiring the labels oddball name when i showed that tie to a buyer she said look at the psycho bunny godley says the name stuck since the initial launch of the psycho bunny neckwear collection the brand has expanded into multiple categories including polo shirts cashmere scarves socks and other mens apparel itemsgodley got engaged to actress jane krakowski in december 2009 and their son bennett robert godley was born in april 2011 the pair separated in december 2013 godley now resides in new york city', '2012 gracie award winner lisa mullins is an american radio personality she was the anchor and senior producer of the world a radio program of public radio international from 1996 to 2012 she anchored the program from hong kong when the territory was handed back to china in 1997 she also covered the 1996 republican national convention in san diego california and anchored that years presidential election coverage from washington dcshe has covered news events around the united states and produced reports from china albania italy mexico and northern ireland she has interviewed key figures on the international stage including un secretary general kofi annan us secretary of state colin powell and afghanistan president hamid karzaimullins also hosted the american broadcast of the bbc documentary series the changing world a collaboration between the bbc world service public radio international and pris the worldpreviously mullins reported on national public radios morning edition all things considered and performance today for six years she hosted the american broadcast of the vienna philharmonics new years day concert performed in the austrian capitalshe has received the bronze award for best network anchor in the new york festivals international radio competition and boston magazine has honored her with its best radio voice award her interview with the episcopal bishop of honduras leo frad won the world the golden reel award in the category national news and public affairs from the national federation of community broadcasters', '250px250pxmartijn meeuwis born july 14 1982 in moergestel is a dutch baseball player who currently plays for neptunus and the dutch national teammeeuwis debuted with the twins sport club in 1999 as a teenager but did not return to the hoofdklasse again until 2004 when he became a fulltime player when the twins were relegated meeuwis moved to hcaw in 2005 he hit 184266233 as a regular outfielder in 2006 he was the clubs regular center fielder though he also filled in at second base he hit 304377402 and led the league in triples 5 in 2007 meeuwis really blossomed after joining door neptunus he hit 301394500 with 37 rbi in 39 games while returning to catcher his original position he threw out 19 of 35 wouldbe basestealers he was 7th in 2007 hoofdklasse in batting average third in home runs 6 and second in rbi six behind leader tjerk smeets he was named as one of the three finalists for the league mvp award alongside fausto lvarez and danny rombley lvarez wonmeeuwis joined the dutch national team when johnny balentina another cof was injured he was part of the teams historic first visit to the united states which included a win over the college edition of team usa he played also in the 2007 world port tournament going 1 for 6 balentina was back with the team for the 2007 european championship but meeuwis replaced him once more for the 2007 baseball world cup he was 3 for 10 with 2 walks and a double in the world cup that year helping fill in for cf roger bernadina he had a key role in the dutch win over host chinese taipei in the quarterfinals enyu lin had retired 13 batters in a row and held a 20 lead when meeuwis walked and came around to score on a hit by reily legito gregory halman later replaced meeuwis in center in that game meeuwis hit 231375231 in the 2008 european cup in regensburgmeeuwis was selected by coach robert eenhoorn in the team that represents the netherlands at the 2008 summer olympics in beijing', '8 ball aitken born 8 june 1987 is an australian singer songwriter and slide guitarist 8 ball plays country blues swamp americana music and he is notable for his fusion of country music with the genres of australian blues and roots music8 ball aitken has released seven albums behind the 8 ball 2004 odd ball in 2006 rebel with a cause 2008 the tamworth tapes 2011 alive in tamworth 2012 a bluer shade of blue 2013 and southern hemisphere 20138 ball aitkens 2013 album release titled southern hemisphere produced a number one hit song in the australian country music radio charts with song im going to jail8 ball aitkens third album rebel with a cause was produced by garth porter rebel with a cause was released in australia by phoenix movement records and mgm distribution australiathe album rebel with a cause has produced two top 10 hits cyclone country hands on top of the wheel in the australian country tracks top 308 ball aitken has won several awards for songs from his album rebel with a cause his song cowboy movie was nominated for the australian blues roots song of the year at the 2009 apra awards 8 ball aitken has won two q song awards his song yellow moon from album rebel with a cause won the 2008 emi q song blues roots award another song outback booty call also from album rebel with a cause won the 2009 q song country award8 ball aitken was also nominated twice at the golden guitar award in the new talent category at the 2009 tamworth country music festival and in the instrumental categorie for a collaboration with troy cassar daley8 ball aitken achieved grand finalist status in toyota star maker at the 2008 2009 2011 tamworth country music festival8 ball aitken won the rising star male award at the 2008 southern star awards which are held in mildura each year also called the australian independent country music awardsaitken is also the founder of the grass roots music festival funded as a special project by brisbanes lord mayor campbell newman the grass roots music festival has run for ten years 2005 to 2014 in the brisbane city botanical gardens mount coottha8 ball aitken has toured and performed at festivals and gigs across australia canada japan and throughout europediscography', '8th agya hotogtu lobsang tubten jigme gyatso tibetan amdo tibetan arahtkt born 1950 is one of the most prominent buddhist teachers and lamas to have left tibet at age two arjia rinpoche was recognized by choekyi gyaltsen 10th panchen lama as the 20th arjia danpei gyaltsen the reincarnation of je tsongkhapas father lumbum ghe the throne holder and abbot of kumbum monastery he has trained with lineage teachers such as the 14th dalai lama the 10th panchen lama and gyayak rinpochefrom whom he received many sacred teachings and ritual instructions during the cultural revolution in chinese controlled tibet arjia rinpoche was forced to leave his monastery and attend a chinese school yet secretly continued to practice and study with his tutors in addition he was required to work in a forced labor camp for 16 years following the cultural revolution rinpoche continued serving as abbot of kumbumoverseeing the renovations in the monastery and reestablishing monastic studies in 1998 due to the strained political climate in tibet arjia rinpoche went into exile because he would not compromise his spiritual beliefs and practices he escaped to the united states where he now lives and started a buddhist center for compassion and wisdom tccw in mill valley california a center committed to the preservation of buddhist teachings art and culture within and outside of tibet and mongolia in 2005 he was appointed director of the tibetan cultural center tcc in bloomington indiana by the 14th dalai lama tcc was recently renamed the tibetan mongolian buddhist cultural center presently he directs both tccw and tmbccarjia rinpoche is the only tibetan high lama of mongolian descent he excels in the knowledge and understanding of tibetan art architecture and the tibetan language he has given classes in buddhist art and sutra throughout the united states canada taiwan india and guatemala in 1999 rinpoche built a threedimensional kalachakra mandala and presented it to the dalai lama later the dalai lama donated this mandala to the smithsonian institution in washington dc kumbum monastery one of the six largest monasteries of the gelug school of tibetan buddhism is the birthplace of je tsongkhapa founder of the school which is now headed by the dalai lama kumbum monastery was once the home of 3600 monks and well revered by the four well known buddhist colleges for higher learning the institute of sutra institute of tantra institute of tibetan medicine and the institute of the kalachakra astrology in the 1980s after buddhism began to revive in tibet and in china arjia rinpoche reestablished monastic life and traditional studies at kumbumthroughout his life arjia rinpoche was tutored by specialized teachers in the area of buddhist philosophy sutra and tantra teachings as well as in buddhist art and architectural design he was in charge of the renovations of kumbum monastery in 1991 and launched several projects including the following red cross organization in kumbum disaster relief project for local villages a clinic for villagers run by monks of the tibetan medical institute and a school for local village childrenarjia rinpoche became vegetarian in 1999', 'a canadian foreign affairs intelligence officer jim gould previously served as the deputy of the department of foreign affairs and international tradein february 2003 gould and an official from the canadian security intelligence service were allowed to interrogate americanheld canadian teenager omar khadr themselves the presence of gould who brought khadr a big mac value meal allowed the government to claim that the purpose of the visit was to ascertain khadrs wellbeing while his attorney nate whitling argued that foreign affairs is suggesting that the visit was actually for khadrs benefit but this is not the case his attorneys then sought a federal court injunction to prevent csis from interrogating their client in the future the following month a briefing from the foreign affairs department summarised goulds findings stating that khadr was a thoroughly screwed up young man all those persons who have been in positions of authority over him have abused him and his trust for their own purposesthe november 14 2003 report from the canadian interrogation states that in a fit of anger khadr tore off his shirt revealing extensive scarring on the upper torso and a cluster of smaller ones on the upper left side of his body and on the back of his left shoulderassistant director of csis william hooper assured the canadian public this interrogation was not intended to secure intelligence for an american prosecution but admitted that the information was all freely shared with his american captors without securing any guarantees such as foregoing potential death penalty chargesjim gould has often shown interest in extreme hobbies including crossing the sahara dessert in 40 days with only food and water', 'a church historian david l holmes is walter g mason professor of religious studies emeritus at the college of william and mary he is the son of david l holmes a university coach and director of athletics revered by his athletes he is married to carolyn coggin holmes executive director of ash lawnhighland the home of james monroe from 1975 to 2012holmes served both as an enlisted man and as an officer in the united states army he holds degrees in english from michigan state and columbia universities and masters and phd degrees in religious studies from princeton university he also studied theology at duke university divinity school and received honorary doctorates from lycoming and hood colleges known for his clear lecturing style and ability to hold the attention of audiences holmes has spoken at numerous colleges libraries and book festivals and delivered several commencement addresses he has also taught at carnegie mellon university and as a visiting professor on multiple occasions at the university of virginia at william mary holmes received numerous teaching awards including the graves award for sustained excellence in teaching the outstanding faculty award of the commonwealth of virginia and the thomas jefferson award the highest honor given by jeffersons alma mater to an administrator or professorafter focusing for several decades on classroom teaching holmes wrote the academic bestseller a brief history of the episcopal church 1993 the bestselling the faiths of the founding fathers 2006 and the recent the faiths of the postwar presidents from truman to obama 2012 upon his retirement from william mary in 2011 his former students established the david l holmes reformation studies and american religious history endowment to honor his tenure and 46 years of intellectual legacy at the college of william mary']"
      ]
     },
     "execution_count": 19,
     "metadata": {},
     "output_type": "execute_result"
    }
   ],
   "source": [
    "sf['text'].sort().head()"
   ]
  },
  {
   "cell_type": "code",
   "execution_count": 20,
   "metadata": {
    "collapsed": false
   },
   "outputs": [
    {
     "ename": "SyntaxError",
     "evalue": "invalid syntax (<ipython-input-20-763a7dc9bd4f>, line 1)",
     "output_type": "error",
     "traceback": [
      "\u001b[1;36m  File \u001b[1;32m\"<ipython-input-20-763a7dc9bd4f>\"\u001b[1;36m, line \u001b[1;32m1\u001b[0m\n\u001b[1;33m    a church historian david l holmes is walter g mason professor of religious studies emeritus at the college of william and mary he is the son of david l holmes a university coach and director of athletics revered by his athletes he is married to carolyn coggin holmes executive director of ash lawnhighland the home of james monroe from 1975 to 2012holmes served both as an enlisted man and as an officer in the united states army he holds degrees in english from michigan state and columbia universities and masters and phd degrees in religious studies from princeton university he also studied theology at duke university divinity school and received honorary doctorates from lycoming and hood colleges known for his clear lecturing style and ability to hold the attention of audiences holmes has spoken at numerous colleges libraries and book festivals and delivered several commencement addresses he has also taught at carnegie mellon university and as a visiting professor on multiple occasions at the university of virginia at william mary holmes received numerous teaching awards including the graves award for sustained excellence in teaching the outstanding faculty award of the commonwealth of virginia and the thomas jefferson award the highest honor given by jeffersons alma mater to an administrator or professorafter focusing for several decades on classroom teaching holmes wrote the academic bestseller a brief history of the episcopal church 1993 the bestselling the faiths of the founding fathers 2006 and the recent the faiths of the postwar presidents from truman to obama 2012 upon his retirement from william mary in 2011 his former students established the david l holmes reformation studies and american religious history endowment to honor his tenure and 46 years of intellectual legacy at the college of william mary\u001b[0m\n\u001b[1;37m           ^\u001b[0m\n\u001b[1;31mSyntaxError\u001b[0m\u001b[1;31m:\u001b[0m invalid syntax\n"
     ]
    }
   ],
   "source": [
    "a church historian david l holmes is walter g mason professor of religious studies emeritus at the college of william and mary he is the son of david l holmes a university coach and director of athletics revered by his athletes he is married to carolyn coggin holmes executive director of ash lawnhighland the home of james monroe from 1975 to 2012holmes served both as an enlisted man and as an officer in the united states army he holds degrees in english from michigan state and columbia universities and masters and phd degrees in religious studies from princeton university he also studied theology at duke university divinity school and received honorary doctorates from lycoming and hood colleges known for his clear lecturing style and ability to hold the attention of audiences holmes has spoken at numerous colleges libraries and book festivals and delivered several commencement addresses he has also taught at carnegie mellon university and as a visiting professor on multiple occasions at the university of virginia at william mary holmes received numerous teaching awards including the graves award for sustained excellence in teaching the outstanding faculty award of the commonwealth of virginia and the thomas jefferson award the highest honor given by jeffersons alma mater to an administrator or professorafter focusing for several decades on classroom teaching holmes wrote the academic bestseller a brief history of the episcopal church 1993 the bestselling the faiths of the founding fathers 2006 and the recent the faiths of the postwar presidents from truman to obama 2012 upon his retirement from william mary in 2011 his former students established the david l holmes reformation studies and american religious history endowment to honor his tenure and 46 years of intellectual legacy at the college of william mary"
   ]
  },
  {
   "cell_type": "code",
   "execution_count": 21,
   "metadata": {
    "collapsed": false
   },
   "outputs": [
    {
     "ename": "TypeError",
     "evalue": "sort_columns type is not correct. Supported types are str, list of str or list of (str,bool) pair.",
     "output_type": "error",
     "traceback": [
      "\u001b[1;31m---------------------------------------------------------------------------\u001b[0m",
      "\u001b[1;31mTypeError\u001b[0m                                 Traceback (most recent call last)",
      "\u001b[1;32m<ipython-input-21-ab7925ce9757>\u001b[0m in \u001b[0;36m<module>\u001b[1;34m()\u001b[0m\n\u001b[1;32m----> 1\u001b[1;33m \u001b[0msf\u001b[0m\u001b[1;33m.\u001b[0m\u001b[0msort\u001b[0m\u001b[1;33m(\u001b[0m\u001b[0msf\u001b[0m\u001b[1;33m[\u001b[0m\u001b[1;34m'text'\u001b[0m\u001b[1;33m]\u001b[0m\u001b[1;33m)\u001b[0m\u001b[1;33m\u001b[0m\u001b[0m\n\u001b[0m",
      "\u001b[1;32m/home/kali/anaconda2/lib/python2.7/site-packages/graphlab/data_structures/sframe.pyc\u001b[0m in \u001b[0;36msort\u001b[1;34m(self, sort_columns, ascending)\u001b[0m\n\u001b[0;32m   5865\u001b[0m                 \u001b[1;32mraise\u001b[0m \u001b[0mTypeError\u001b[0m\u001b[1;33m(\u001b[0m\u001b[1;34m\"sort_columns type is not supported\"\u001b[0m\u001b[1;33m)\u001b[0m\u001b[1;33m\u001b[0m\u001b[0m\n\u001b[0;32m   5866\u001b[0m         \u001b[1;32melse\u001b[0m\u001b[1;33m:\u001b[0m\u001b[1;33m\u001b[0m\u001b[0m\n\u001b[1;32m-> 5867\u001b[1;33m             \u001b[1;32mraise\u001b[0m \u001b[0mTypeError\u001b[0m\u001b[1;33m(\u001b[0m\u001b[1;34m\"sort_columns type is not correct. Supported types are str, list of str or list of (str,bool) pair.\"\u001b[0m\u001b[1;33m)\u001b[0m\u001b[1;33m\u001b[0m\u001b[0m\n\u001b[0m\u001b[0;32m   5868\u001b[0m \u001b[1;33m\u001b[0m\u001b[0m\n\u001b[0;32m   5869\u001b[0m         \u001b[1;31m# use the second parameter if the sort order is not given\u001b[0m\u001b[1;33m\u001b[0m\u001b[1;33m\u001b[0m\u001b[0m\n",
      "\u001b[1;31mTypeError\u001b[0m: sort_columns type is not correct. Supported types are str, list of str or list of (str,bool) pair."
     ]
    }
   ],
   "source": [
    "sf.sort(sf['text'])"
   ]
  },
  {
   "cell_type": "code",
   "execution_count": 22,
   "metadata": {
    "collapsed": false
   },
   "outputs": [
    {
     "data": {
      "text/html": [
       "<div style=\"max-height:1000px;max-width:1500px;overflow:auto;\"><table frame=\"box\" rules=\"cols\">\n",
       "    <tr>\n",
       "        <th style=\"padding-left: 1em; padding-right: 1em; text-align: center\">URI</th>\n",
       "        <th style=\"padding-left: 1em; padding-right: 1em; text-align: center\">name</th>\n",
       "        <th style=\"padding-left: 1em; padding-right: 1em; text-align: center\">text</th>\n",
       "    </tr>\n",
       "    <tr>\n",
       "        <td style=\"padding-left: 1em; padding-right: 1em; text-align: center; vertical-align: top\">&lt;http://dbpedia.org/resou<br>rce/108_(artist)&gt; ...</td>\n",
       "        <td style=\"padding-left: 1em; padding-right: 1em; text-align: center; vertical-align: top\">108 (artist)</td>\n",
       "        <td style=\"padding-left: 1em; padding-right: 1em; text-align: center; vertical-align: top\">108 born 1978 is an<br>italian artist in the ...</td>\n",
       "    </tr>\n",
       "    <tr>\n",
       "        <td style=\"padding-left: 1em; padding-right: 1em; text-align: center; vertical-align: top\">&lt;http://dbpedia.org/resou<br>rce/1.8.7&gt; ...</td>\n",
       "        <td style=\"padding-left: 1em; padding-right: 1em; text-align: center; vertical-align: top\">1.8.7</td>\n",
       "        <td style=\"padding-left: 1em; padding-right: 1em; text-align: center; vertical-align: top\">187 is a pseudonym for<br>jordana lesesne a ...</td>\n",
       "    </tr>\n",
       "    <tr>\n",
       "        <td style=\"padding-left: 1em; padding-right: 1em; text-align: center; vertical-align: top\">&lt;http://dbpedia.org/resou<br>rce/Diane_Carlson_Evans&gt; ...</td>\n",
       "        <td style=\"padding-left: 1em; padding-right: 1em; text-align: center; vertical-align: top\">Diane Carlson Evans</td>\n",
       "        <td style=\"padding-left: 1em; padding-right: 1em; text-align: center; vertical-align: top\">1lt diane carlson evans<br>anc rvn born 1946 served ...</td>\n",
       "    </tr>\n",
       "    <tr>\n",
       "        <td style=\"padding-left: 1em; padding-right: 1em; text-align: center; vertical-align: top\">&lt;http://dbpedia.org/resou<br>rce/Robert_Godley&gt; ...</td>\n",
       "        <td style=\"padding-left: 1em; padding-right: 1em; text-align: center; vertical-align: top\">Robert Godley</td>\n",
       "        <td style=\"padding-left: 1em; padding-right: 1em; text-align: center; vertical-align: top\">1robert godley b 7 july<br>1971 in whitstable kent ...</td>\n",
       "    </tr>\n",
       "    <tr>\n",
       "        <td style=\"padding-left: 1em; padding-right: 1em; text-align: center; vertical-align: top\">&lt;http://dbpedia.org/resou<br>rce/Lisa_Mullins&gt; ...</td>\n",
       "        <td style=\"padding-left: 1em; padding-right: 1em; text-align: center; vertical-align: top\">Lisa Mullins</td>\n",
       "        <td style=\"padding-left: 1em; padding-right: 1em; text-align: center; vertical-align: top\">2012 gracie award winner<br>lisa mullins is an ...</td>\n",
       "    </tr>\n",
       "    <tr>\n",
       "        <td style=\"padding-left: 1em; padding-right: 1em; text-align: center; vertical-align: top\">&lt;http://dbpedia.org/resou<br>rce/Martijn_Meeuwis&gt; ...</td>\n",
       "        <td style=\"padding-left: 1em; padding-right: 1em; text-align: center; vertical-align: top\">Martijn Meeuwis</td>\n",
       "        <td style=\"padding-left: 1em; padding-right: 1em; text-align: center; vertical-align: top\">250px250pxmartijn meeuwis<br>born july 14 1982 in ...</td>\n",
       "    </tr>\n",
       "    <tr>\n",
       "        <td style=\"padding-left: 1em; padding-right: 1em; text-align: center; vertical-align: top\">&lt;http://dbpedia.org/resou<br>rce/8_Ball_Aitken&gt; ...</td>\n",
       "        <td style=\"padding-left: 1em; padding-right: 1em; text-align: center; vertical-align: top\">8 Ball Aitken</td>\n",
       "        <td style=\"padding-left: 1em; padding-right: 1em; text-align: center; vertical-align: top\">8 ball aitken born 8 june<br>1987 is an australian ...</td>\n",
       "    </tr>\n",
       "    <tr>\n",
       "        <td style=\"padding-left: 1em; padding-right: 1em; text-align: center; vertical-align: top\">&lt;http://dbpedia.org/resou<br>rce/8th_Arjia_Rinpoche&gt; ...</td>\n",
       "        <td style=\"padding-left: 1em; padding-right: 1em; text-align: center; vertical-align: top\">8th Arjia Rinpoche</td>\n",
       "        <td style=\"padding-left: 1em; padding-right: 1em; text-align: center; vertical-align: top\">8th agya hotogtu lobsang<br>tubten jigme gyatso ...</td>\n",
       "    </tr>\n",
       "    <tr>\n",
       "        <td style=\"padding-left: 1em; padding-right: 1em; text-align: center; vertical-align: top\">&lt;http://dbpedia.org/resou<br>rce/Jim_Gould&gt; ...</td>\n",
       "        <td style=\"padding-left: 1em; padding-right: 1em; text-align: center; vertical-align: top\">Jim Gould</td>\n",
       "        <td style=\"padding-left: 1em; padding-right: 1em; text-align: center; vertical-align: top\">a canadian foreign<br>affairs intelligence ...</td>\n",
       "    </tr>\n",
       "    <tr>\n",
       "        <td style=\"padding-left: 1em; padding-right: 1em; text-align: center; vertical-align: top\">&lt;http://dbpedia.org/resou<br>rce/David_L._Holmes&gt; ...</td>\n",
       "        <td style=\"padding-left: 1em; padding-right: 1em; text-align: center; vertical-align: top\">David L. Holmes</td>\n",
       "        <td style=\"padding-left: 1em; padding-right: 1em; text-align: center; vertical-align: top\">a church historian david<br>l holmes is walter g ...</td>\n",
       "    </tr>\n",
       "</table>\n",
       "[59071 rows x 3 columns]<br/>Note: Only the head of the SFrame is printed.<br/>You can use print_rows(num_rows=m, num_columns=n) to print more rows and columns.\n",
       "</div>"
      ],
      "text/plain": [
       "Columns:\n",
       "\tURI\tstr\n",
       "\tname\tstr\n",
       "\ttext\tstr\n",
       "\n",
       "Rows: 59071\n",
       "\n",
       "Data:\n",
       "+-------------------------------+---------------------+\n",
       "|              URI              |         name        |\n",
       "+-------------------------------+---------------------+\n",
       "| <http://dbpedia.org/resour... |     108 (artist)    |\n",
       "| <http://dbpedia.org/resour... |        1.8.7        |\n",
       "| <http://dbpedia.org/resour... | Diane Carlson Evans |\n",
       "| <http://dbpedia.org/resour... |    Robert Godley    |\n",
       "| <http://dbpedia.org/resour... |     Lisa Mullins    |\n",
       "| <http://dbpedia.org/resour... |   Martijn Meeuwis   |\n",
       "| <http://dbpedia.org/resour... |    8 Ball Aitken    |\n",
       "| <http://dbpedia.org/resour... |  8th Arjia Rinpoche |\n",
       "| <http://dbpedia.org/resour... |      Jim Gould      |\n",
       "| <http://dbpedia.org/resour... |   David L. Holmes   |\n",
       "+-------------------------------+---------------------+\n",
       "+-------------------------------+\n",
       "|              text             |\n",
       "+-------------------------------+\n",
       "| 108 born 1978 is an italia... |\n",
       "| 187 is a pseudonym for jor... |\n",
       "| 1lt diane carlson evans an... |\n",
       "| 1robert godley b 7 july 19... |\n",
       "| 2012 gracie award winner l... |\n",
       "| 250px250pxmartijn meeuwis ... |\n",
       "| 8 ball aitken born 8 june ... |\n",
       "| 8th agya hotogtu lobsang t... |\n",
       "| a canadian foreign affairs... |\n",
       "| a church historian david l... |\n",
       "+-------------------------------+\n",
       "[59071 rows x 3 columns]\n",
       "Note: Only the head of the SFrame is printed.\n",
       "You can use print_rows(num_rows=m, num_columns=n) to print more rows and columns."
      ]
     },
     "execution_count": 22,
     "metadata": {},
     "output_type": "execute_result"
    }
   ],
   "source": [
    "sf.sort(['text'])"
   ]
  },
  {
   "cell_type": "code",
   "execution_count": 23,
   "metadata": {
    "collapsed": true
   },
   "outputs": [],
   "source": [
    "# Test passed"
   ]
  },
  {
   "cell_type": "code",
   "execution_count": null,
   "metadata": {
    "collapsed": true
   },
   "outputs": [],
   "source": []
  }
 ],
 "metadata": {
  "kernelspec": {
   "display_name": "Python 2",
   "language": "python",
   "name": "python2"
  },
  "language_info": {
   "codemirror_mode": {
    "name": "ipython",
    "version": 2
   },
   "file_extension": ".py",
   "mimetype": "text/x-python",
   "name": "python",
   "nbconvert_exporter": "python",
   "pygments_lexer": "ipython2",
   "version": "2.7.11"
  }
 },
 "nbformat": 4,
 "nbformat_minor": 0
}
